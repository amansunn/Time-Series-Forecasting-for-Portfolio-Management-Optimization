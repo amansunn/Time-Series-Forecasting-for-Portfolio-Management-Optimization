{
 "cells": [
  {
   "cell_type": "markdown",
   "metadata": {},
   "source": [
    "# Portfolio Analysis Notebook\n",
    "## Exploratory Data Analysis for TSLA, BND, SPY"
   ]
  },
  {
   "cell_type": "code",
   "execution_count": null,
   "metadata": {},
   "outputs": [],
   "source": [
    "import sys\n",
    "sys.path.append('../src')\n",
    "from utils.yfinance_loader import load_financial_data\n",
    "from core.data_preprocessing import *\n",
    "import matplotlib.pyplot as plt\n",
    "import seaborn as sns\n",
    "from statsmodels.tsa.stattools import adfuller"
   ]
  },
  {
   "cell_type": "markdown",
   "metadata": {},
   "source": [
    "## Data Loading"
   ]
  },
  {
   "cell_type": "code",
   "execution_count": null,
   "metadata": {},
   "outputs": [],
   "source": [
    "# Load raw data\n",
    "raw_data = load_financial_data()\n",
    "raw_data.head()"
   ]
  },
  {
   "cell_type": "markdown",
   "metadata": {},
   "source": [
    "## Data Preprocessing"
   ]
  },
  {
   "cell_type": "code",
   "execution_count": null,
   "metadata": {},
   "outputs": [],
   "source": [
    "processed_data = prepare_dataset(raw_data)\n",
    "returns, log_returns = calculate_returns(raw_data)"
   ]
  },
  {
   "cell_type": "markdown",
   "metadata": {},
   "source": [
    "## Time Series Visualization"
   ]
  },
  {
   "cell_type": "code",
   "execution_count": null,
   "metadata": {},
   "outputs": [],
   "source": [
    "plt.figure(figsize=(14,7))\n",
    "for ticker in ['TSLA', 'BND', 'SPY']:\n",
    "    plt.plot(processed_data.index, processed_data[ticker], label=ticker)\n",
    "plt.title('Normalized Closing Prices')\n",
    "plt.legend()\n",
    "plt.show()"
   ]
  },
  {
   "cell_type": "markdown",
   "metadata": {},
   "source": [
    "## Returns Analysis"
   ]
  },
  {
   "cell_type": "code",
   "execution_count": null,
   "metadata": {},
   "outputs": [],
   "source": [
    "plt.figure(figsize=(14,7))\n",
    "sns.histplot(returns['TSLA'], kde=True, label='TSLA Daily Returns')\n",
    "plt.title('Return Distribution Analysis')\n",
    "plt.legend()\n",
    "plt.show()"
   ]
  },
  {
   "cell_type": "markdown",
   "metadata": {},
   "source": [
    "## Statistical Tests"
   ]
  },
  {
   "cell_type": "code",
   "execution_count": null,
   "metadata": {},
   "outputs": [],
   "source": [
    "def adf_test(series):\n",
    "    result = adfuller(series)\n",
    "    return {\n",
    "        'ADF Statistic': result[0],\n",
    "        'p-value': result[1],\n",
    "        'Critical Values': result[4]\n",
    "    }\n",
    "\n",
    "for ticker in ['TSLA', 'BND', 'SPY']:\n",
    "    print(f\"ADF Test for {ticker}:\")\n",
    "    print(adf_test(processed_data[ticker]))"
   ]
  },
  {
   "cell_type": "markdown",
   "metadata": {},
   "source": [
    "## Save Processed Data"
   ]
  },
  {
   "cell_type": "code",
   "execution_count": null,
   "metadata": {},
   "outputs": [],
   "source": [
    "## SARIMA Forecasting\\n",
    "from models.time_series_models import ARIMAModel\\n",
    "\\n",
    "# Train SARIMA model on TSLA data\\n",
    "sarima = ARIMAModel(ticker='TSLA')\\n",
    "model = sarima.train(processed_data['TSLA'], seasonal=True)\\n",
    "\\n",
    "# Generate 12-month forecast with 95% CI\\n",
    "forecast, conf_int = sarima.forecast(steps=252, alpha=0.05)\\n",
    "forecast_index = pd.date_range(start=processed_data.index[-1], periods=253, freq='B')[1:]\\n",
    "\\n",
    "## Forecast Visualization\\n",
    "plt.figure(figsize=(14, 7))\\n",
    "plt.plot(processed_data['TSLA'], label='Historical Prices')\\n",
    "plt.plot(forecast_index, forecast, label='12-Month Forecast', color='orange')\\n",
    "plt.fill_between(forecast_index, \\n",
    "                 conf_int[:, 0], \\n",
    "                 conf_int[:, 1], \\n",
    "                 color='orange', \\n",
    "                 alpha=0.2,\\n",
    "                 label='95% Confidence Interval')\\n",
    "plt.title('TSLA Price Forecast with Confidence Intervals')\\n",
    "plt.xlabel('Date')\\n",
    "plt.ylabel('Normalized Price')\\n",
    "plt.legend()\\n",
    "plt.show()\\n",
    "\\n",
    "## Forecast Analysis\\n",
    "### Trend Analysis\\n",
    "trend = 'upward' if forecast[-1] > forecast[0] else 'downward'\n",
    "print(f'Primary Trend: {trend.capitalize()} trajectory over forecast horizon')\n",
    "print(f'Maximum forecast price: {forecast.max():.2f} ({forecast_index[forecast.argmax()]:%b %Y})')\n",
    "print(f'Minimum forecast price: {forecast.min():.2f} ({forecast_index[forecast.argmin()]:%b %Y})')\n",
    "\\n",
    "### Volatility Assessment\\n",
    "ci_width = conf_int[:, 1] - conf_int[:, 0]\\n",
    "print(f\\"\\\\nUncertainty Analysis:\\")\\n",
    "print(f\\"Average daily confidence interval width: {ci_width.mean():.2f}\\""),\\n",
    "print(f\\"Maximum width: {ci_width.max():.2f} ({forecast_index[ci_width.argmax()]:%b %Y})\\")\\n",
    "\\n",
    "### Risk Assessment\\n",
    "print(\\"\\\\nKey Risks:\\")\\n",
    "print(\\"- Increasing confidence interval width indicates higher uncertainty in long-term predictions\\")\\n",
    "print(\\"- Potential volatility spikes suggested by widening CI bands during {}\\".format(\\n",
    "    forecast_index[ci_width.argmax()].strftime('%B %Y')))\\n",
    "print(\\"- Mean absolute percentage error: {:.2f}%\\".format(\\n",
    "    sarima.calculate_metrics(processed_data['TSLA'][-252:], forecast[:252])['MAPE']))\\n",
    "\\n",
    "## Save Processed Data\\n",
    "processed_data.to_csv('../data/processed/portfolio_data_processed.csv')"
   ]
   ]
  }
 ],
 "metadata": {
  "kernelspec": {
   "display_name": "Python 3",
   "language": "python",
   "name": "python3"
  },
  "language_info": {
   "codemirror_mode": {
    "name": "ipython",
    "version": 3
   },
   "file_extension": ".py",
   "mimetype": "text/x-python",
   "name": "python",
   "nbconvert_exporter": "python",
   "pygments_lexer": "ipython3",
   "version": "3.11.5"
  }
 },
 "nbformat": 4,
 "nbformat_minor": 2
}